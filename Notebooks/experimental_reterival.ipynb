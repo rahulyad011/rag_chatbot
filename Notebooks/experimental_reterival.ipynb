{
 "cells": [
  {
   "cell_type": "code",
   "execution_count": 1,
   "metadata": {},
   "outputs": [
    {
     "name": "stderr",
     "output_type": "stream",
     "text": [
      "/Users/ryadav704/Projects/rag_chatbot/.venv/lib/python3.9/site-packages/urllib3/__init__.py:35: NotOpenSSLWarning: urllib3 v2 only supports OpenSSL 1.1.1+, currently the 'ssl' module is compiled with 'LibreSSL 2.8.3'. See: https://github.com/urllib3/urllib3/issues/3020\n",
      "  warnings.warn(\n"
     ]
    }
   ],
   "source": [
    "from langchain.retrievers import ParentDocumentRetriever"
   ]
  },
  {
   "cell_type": "code",
   "execution_count": 2,
   "metadata": {},
   "outputs": [],
   "source": [
    "from langchain.storage import InMemoryStore\n",
    "from langchain_chroma import Chroma\n",
    "from langchain_community.document_loaders import TextLoader\n",
    "from langchain_openai import OpenAIEmbeddings\n",
    "from langchain_text_splitters import RecursiveCharacterTextSplitter"
   ]
  },
  {
   "cell_type": "code",
   "execution_count": 5,
   "metadata": {},
   "outputs": [],
   "source": [
    "# from langchain_community.document_loaders import PyPDFLoader\n",
    "\n",
    "# loader = PyPDFLoader(\"raw_data/History_of_India_2nd_ed.pdf\")\n",
    "# pages = loader.load_and_split()"
   ]
  },
  {
   "cell_type": "code",
   "execution_count": 21,
   "metadata": {},
   "outputs": [],
   "source": [
    "from langchain_community.document_loaders import PyPDFLoader\n",
    "\n",
    "# Function to load and filter out specific pages\n",
    "def load_pdf_excluding_pages(pdf_path, pages_to_skip):\n",
    "    loader = PyPDFLoader(pdf_path)\n",
    "    all_pages = loader.load_and_split()\n",
    "    \n",
    "    # Filter out the pages to skip\n",
    "    filtered_pages = [page for i, page in enumerate(all_pages) if i not in pages_to_skip]\n",
    "    return filtered_pages\n",
    "\n",
    "# Specify the path to your PDF and the pages you want to skip (zero-based index)\n",
    "pdf_path = \"raw_data/History_of_India_2nd_ed.pdf\"\n",
    "pages_to_skip = [0, 1, 2, 3, 4, 5, 6, 7, 8, 9, 10, 11, 12, 13] + list(range(455, 469))  # Example: Skipping the first three pages table of contents"
   ]
  },
  {
   "cell_type": "code",
   "execution_count": 22,
   "metadata": {},
   "outputs": [
    {
     "name": "stdout",
     "output_type": "stream",
     "text": [
      "page_content='xiv INTRODUCTION TO BURTON \\nSTEIN ’ S  A HISTORY OF INDIA      \\n  David Arnold \\n Burton Stein ’ s  A History of India  is one of the most ambitious histories of the \\nsubcontinent ever undertaken, certainly by an individual scholar and in a \\nsingle - volume work. First published in 1998, it proﬁ  ted from the decades of \\nintensive scholarly research that had been carried out by Western and South Asian scholars since the 1950s and to which Stein himself was an active and inﬂ uential contributor. Although in the  History  Stein seldom refers explicitly \\nto speciﬁ  c historians, their views are at least implicit in his critical treatment of Indian feudalism, the nature of the Vijayanagara  ‘ empire ’ , the decline of \\nthe Mughals and the personality and leadership of M. K. Gandhi. It is evident, too, even if not foregrounded, in the wealth of historiography and historical debate, which Stein himself found  ‘ marvellously stimulating ’ , that consistently \\nunderpins and animates his discussion. But the  History of India  also strongly \\nreﬂ ects its author ’ s wide - ranging personal engagement with the history of \\nSouth Asia, especially with the history of south India from the medieval period to the early colonial era. \\n Although Stein died in 1996, before his  History  could be ﬁ  nalized for pub-\\nlication, he had by that date, and exceptionally among historians of the \\nmodern age (for whom specialization in the history of a century or two has become the norm), published books that ranged from  ‘ peasant state and \\nsociety ’  in medieval south India and of Vijayanagara society, poised on the \\ncusp of the early modern age, through to his intellectual biography of Thomas Munro, one of the founders of British rule in India, who helped usher in  ‘ a \\nnew dispensation for India ’  in the early nineteenth century. Stein was, there-\\nfore, exceptionally well placed to take the long view of Indian history, to reﬂ  ect \\non its underlying continuities even more than its supposed disjunctures, and to see in that complex and variegated history a strong sense of evolving proc-esses rather than the static forms and abrupt transformations favoured by earlier generations of historians, imperial and Indian alike. Added to this, and giving a rare coherence to the work as a whole, Stein brought to his  History  \\na broad thematic unity based on an essentially Marxist understanding of his-torical materialism and the underlying processes of community and class formation.  ‘ I assume ’ , Stein states a third of the way through the Introduction \\n(which itself serves both as a succinct resum é  of the  History  and as a statement \\nof Stein ’ s mature historical credo),  ‘ that all social relations and institutions' metadata={'source': 'raw_data/History_of_India_2nd_ed.pdf', 'page': 16}\n",
      "page_content='Editor’s Introduction\\nxvare shaped, though not completely determined, by the extant systems of pro-\\nduction and the places of particular groups within productive systems. ’  The \\nresult is an energetic, original and intellectually challenging reappraisal of Indian history: it is, as Stein describes it, an  ‘ accounting ’ , and not a mere \\nsuccession of events, dynastic adventures and oversized personalities (though Stein never neglects the need to present history as an ongoing narrative). With its  ‘ uniformly lucid exposition ’  and  ‘ breathtaking ’  temporal and thematic \\nrange, the  History of India  is, as one of the reviewers best qualiﬁ  ed to make \\nthe judgement remarked, probably Stein ’ s  ‘ most enduring ’  book. \\n1  \\n Most histories of India have been written from the perspective of the north \\n –  from the Indo - Gangetic plain that has so often been regarded as the geo-\\ngraphical core and cultural heartland of the subcontinent, and, at least until \\nthe European incursions of the eighteenth and nineteenth centuries, the region into which northern invaders poured and from which were subsequently dis-seminated many of the seemingly foundational attributes of Indian or Indo -\\n Muslim civilization. The south of India appeared, by contrast, a backwater or \\nthe slow, perhaps sullen, recipient of northern innovation. Close familiarity with the south, and the long - term structure of its society and history, enabled \\nStein, whose enthusiasm helped stimulate a revival of south Indian historical studies in the United States and Britain, to adopt a substantially different perspective from that of most previous histories of the subcontinent. In his  History  there is less sense of abrupt changes and sweeping transformations, of \\na high classical era followed by retreat into a European - style  ‘ Dark Ages ’ . \\nMany of the developments he traces, notably the Hindu devotional (or  bhakti ) \\nmovement from the sixth century onwards, are clearly identiﬁ  ed as having \\narisen out of southern soil, just as the Chola and Vijayanagara polities provide for him as telling an account of the realities and limitations of Indian state -\\n formation as the more celebrated northern empires of the Mauryans, Guptas \\nand Mughals. Within the south, it is particularly to the Tamil country (Tamil-nadu) that Stein turns for inspiration and evidence. Tamil texts and epigra-phy, along with Tamil social and cultural movements, provide him with the means by which to qualify or to enlarge upon the kinds of all - India generaliza-\\ntions that any competent survey of this kind requires. \\n If at times Stein ’ s  ‘ peninsular ’  perspective leads him to neglect aspects of \\nnorthern history that students and scholars might reasonably expect to ﬁ  nd \\nhere  –  the relative lack of discussion of the rise of Sikhism from the early \\nsixteenth century and the Sikh - run state of Ranjit Singh in early nineteenth -\\n century Punjab being a case in point  –  then the greater focus on the south \\nhelps him to redress a familiar northern bias  –  as, for example, in questioning \\na periodization of Indian history that reﬂ  ects developments north rather than \\nsouth of the Narmada River and the Vindhya Hills. And though he was not the ﬁ  rst historian of South Asia to use the concept of an  ‘ Early Modern India ’ , \\nbeginning around 1600, to elide an overdrawn dichotomy between the medi-eval and the modern he uses it with particular effectiveness and supplies it, in Chapter  4  of this work, with a persuasive rationale. \\n In his  History of India , as in his scholarship more generally, Stein paid close \\nattention to the nature and availability of contemporary sources  –  oral, textual' metadata={'source': 'raw_data/History_of_India_2nd_ed.pdf', 'page': 17}\n",
      "page_content='Editor’s Introduction\\nxviand visual  –  and the problems they raise for historical enquiry. At the same \\ntime, while particularly critical of what he seemed to see as the banalities of \\ncertain strands of nationalist historiography (he seldom even stoops to chal-lenge its imperial precursors), he shows an unﬂ  agging appetite for a history \\nthat is consistently analytical and well grounded in Marxist concepts of class and economic change. Although the bulk of Stein ’ s scholarly output related \\nto a period centuries before British rule and its post - Independence successors, \\nas his Introduction makes clear (especially through the remarks with which it opens and ends), many of his concerns were shaped by the post - 1945 world. \\nAlthough Stein often wrote about religion, he was deeply sceptical of approaches to the study of South Asia that stressed India ’ s supposedly  ‘ other - worldly ’  \\nnature. His was a  ‘ modernist ’ ,  ‘ developmental ’  approach, in which the material \\nsubstance of social and economic change mattered considerably more than the supposed role of  ‘ values ’ . \\n2  Having begun his career, broadly speaking, as an \\neconomic historian (one of his ﬁ  rst published works was a bibliographic essay \\non Indian economic history published with Morris David Morris in 1961), the \\nimportance he attaches in this book to questions of poverty and exploitation, \\npopulation growth and environmental change, gender inequalities and the rise of the petty bourgeoisie, echo many of his abiding concerns with the material underpinnings of the history of South Asia. Liberty, pleasure and poetics seldom surface as frontline topics for discussion: the  Kama Sutra  is not listed \\namong the recommended reading nor do the Indian novel and Bollywood cinema claim a role. The artistic imagination, the religious insights and sub-tleties, the philosophical agility and inventiveness for which South Asian civi-lization is so often acclaimed are here muted or near - absent themes. Not much \\ninterest is shown either in questions of Orientalism (in the sense popularized by Edward Said) or in  ‘ colonial knowledge ’ : the discursive turn in South Asian \\nscholarship did not much impress Stein. \\n Nor was he content to marvel at those great men and women whose lives \\nand works adorn so many histories of India. Munro, who perhaps signiﬁ  cantly \\nappears almost exactly midway in Stein ’ s text, poised between the old world \\nand the new, is more an exemplar of continuity and change than testimony \\nto the commanding role of the individual in history. Stein ’ s sceptical, even \\niconoclastic, stance towards  ‘ heroic ’  history is evident in his searching, at times \\nscornful, observations on Gandhi. While admitting Gandhi ’ s historical impor-\\ntance in leading and moulding India ’ s anti - colonial struggle, Stein is highly \\ncritical of his personal attitudes and his baleful effect in preserving many of India ’ s grossest inequalities. This is not a book written to ﬂ  atter nationalist \\nsensibilities any more than it is intended to salve imperial consciences. \\n Burton Stein was born in Chicago on 1 August 1926. He grew up in that \\ntough pragmatic city and, after service in the Second World War, returned \\nthere to write a PhD, completed in 1957, on the economic functions of the Tirupati temple in medieval south India: from the outset his approach to  ‘ religion ’  was through the materiality of economic history. He taught at the \\nUniversity of Minnesota before transferring in 1966 to the University of Hawaii where he taught for seventeen years. In 1983 he moved to London' metadata={'source': 'raw_data/History_of_India_2nd_ed.pdf', 'page': 18}\n",
      "page_content='Editor’s Introduction\\nxviiwith his wife Dorothy and was a professorial research associate at the School \\nof Oriental and African Studies in London until his death on 26 April 1996. \\nLiving only a few streets away from the then India Ofﬁ  ce Library in Black-friars, Stein was able to pursue his research on Munro and to engage with the many scholars who visited London and the India Ofﬁ  ce Library from around the world (the present writer being one of the many who joined him for a lunchtime chat about the current state of Indian history in a neighbouring pub), and a substantial portion of his scholarly output was produced during these  ‘ retirement ’  years, away from the constraints of a conventional academic \\nenvironment. \\n Stein ’ s frank and theoretical interest in working backwards from the present, \\nas if, like an archaeologist, the historian toiled to skim off successive layers of time ’ s accretions in order to reach down to a more ancient past, and yet with \\nall the practically acquired knowledge of what happened thereafter, was in part a reﬂ  ection of his own professional trajectory as a historian of South Asia. As he noted in his biography of Munro in 1989, \\n3  when he began work on his \\ndoctoral thesis at the University of Chicago in the 1950s he had in mind a \\nstudy of the current rural development programme in Ceylon (Sri Lanka) and south India. But he almost immediately found himself  ‘ plunged into the past \\nof South India ’ . What began as mere  ‘ background ’  to a study of contemporary \\nmodernization became, in the absence of a halfway adequate historiography, a personal quest and an in - depth exploration into the complexities of south \\nIndia ’ s pre - modern agrarian society. Perhaps as Christopher Bayly has \\nremarked, like many American academics in the 1950s and 1960s, Stein ’ s \\napproach to India was  ‘ overtly anti - colonial in spirit ’   –  at least in the sense of \\nquestioning imperial categories and historical assumptions. Much of his schol-arly work was motivated by a desire  ‘ to get behind colonial categories of \\nsociety to discover what were the real unities, the real political and social structures which might have fostered or impeded development ’ . \\n4  \\n Certainly, Stein ’ s approach to the history of India  –  in this book and in his \\nearlier works  –  was in many respects a radical one. As David Washbrook \\npointed out in paying tribute to Stein ’ s scholarship, he sought to escape from, \\nand to challenge, the  ‘ virtually axiomatic ’  idea that colonialism  ‘ fundamentally \\nbroke the pattern of the Indian past ’ . This is not to suggest that Stein con-\\nsidered colonialism an insigniﬁ  cant intervention or one that failed to change \\nthe contours of Indian history, but rather that his distinctive research trajec-tory, one which had carried him through a thousand years of south Indian history, from the tenth - century Cholas to Munro, the imperial proconsul, \\n ‘ gave him a sense that it was an intervention into something that was already \\ngoing on, possessed its own dynamics and energies and wasn ’ t going to be \\nstopped by a handful of white men in funny hats ’ . And in this ability to stand \\noutside colonialism and to see it within far larger and inﬁ  nitely more complex patterns of change, Washbrook suggests, Stein ’ s sense of the south Indian \\n longue dur é e  was critical. It enabled him to see that the historical past of the \\nsouth (and by extension India as a whole)  ‘ owed at least as much to its own \\nlocal inheritances as to whatever was imposed upon it by Britain and the West. \\nStein ’ s genius was  ‘ distinctively  “ modernist ”  in inspiration ’   –  unlike that of' metadata={'source': 'raw_data/History_of_India_2nd_ed.pdf', 'page': 19}\n",
      "page_content='Editor’s Introduction\\nxviiimany of his contemporaries who worked exclusively on the pre - modern \\nhistory of India. He refused to accept the prevailing convention  ‘ that the \\nmedieval past was  “ made ”  by the prescriptive force of depersonalized systems \\nof  “ civilization ” ,  “ culture ”  and religious belief  ’ . Instead Stein was insistent \\nthat it should be shown, as has more commonly been the case with modern \\nhistory, as being formed  ‘ by self - conscious people themselves, through their \\ninteractions ﬁ  rst with nature and then with each other ’ . \\n Paradoxically perhaps for someone who delved so deeply into India ’ s medi-\\neval and early modern age, Stein was as passionately interested in the present \\nas in the past. For him the fundamental and recurring question was  ‘ when, why \\nand how did a particular version of the modern state and a particular version of capitalism become established in south Asia? ’  In this search for the underly-\\ning essence of Indian society Stein turned not to the history of India ’ s sporadic \\nand ﬂ  eeting empires, nor, despite his early interest in  ‘ merchant guilds ’ , did he \\nturn, as many India - based historians have done before and since, to those \\nsystems of trade that bound India into oceanic trade and continent - wide com-\\nmerce. Little taken with imperial grandeur, Stein was drawn instinctively (in common, it should be said, with many other historians, anthropologists and political scientists of the 1960s and 1970s) to the importance of the everyday and the local. Even his study of Munro is more about the pragmatics of direct colonial engagement with the Indian countryside than with grand imperial narratives or Western philosophizing over empire. He looked instead to the small - scale and immediate  –  the nature and role of peasant communities, \\nstructures of legitimacy based upon kinship and ritual, the function of temples within local systems of wealth, power and inﬂ  uence, and the socially and envi-ronmentally distinctive subregions (or  nadus ) within which peasant society in \\nthe Tamil - speaking south primarily operated. The foundational importance of \\nthis local understanding of India remained central not just to his earlier works on peasant society but to Stein ’ s  History of India  as well. \\n Commenting on Stein ’ s work from an anthropological perspective, Chris-\\ntopher Fuller has remarked how Stein, despite advising students against \\nbecoming  ‘ retrospective anthropologists ’ , nevertheless saw anthropology, like \\neconomics, as an important stimulus to thinking differently about history and the terms, categories and concepts historians employed. Stein ’ s own work on \\nsouth India drew extensively on anthropology, not least because, as Fuller puts it, his model of the south Indian state  ‘ depended on an analysis of local \\nsociety (hence of caste, kinship, village economy and politics) and of religion and ritual symbolism ’ . If anthropology gave Stein, no stranger to controversy, \\nthe means by which to attack the errant views of other historians, he was also  ‘ much more critically aware than most scholars of the pitfalls of interdiscipli-\\nnary work ’ . Even so, Fuller suggests, Stein ’ s interest in anthropology was on \\nthe wane by the time he wrote his  History , and while he owed much to anthro-\\npology, he remained  ‘ fully a historian ’ . \\n The principal example of Stein ’ s borrowing from anthropology was the \\nconcept of the  ‘ segmentary state ’  which he had adopted by the 1970s from \\nthe British anthropologist Aidan Southall and his 1956 study of Alur Society \\nin Uganda, and this remained an inﬂ  uential  –  one might say deﬁ  antly inﬂ  u-' metadata={'source': 'raw_data/History_of_India_2nd_ed.pdf', 'page': 20}\n"
     ]
    }
   ],
   "source": [
    "# Load the PDF excluding the specified pages\n",
    "filtered_pages = load_pdf_excluding_pages(pdf_path, pages_to_skip)\n",
    "\n",
    "# Now you can process the filtered pages\n",
    "for page in filtered_pages[0:5]:\n",
    "    print(page)"
   ]
  },
  {
   "cell_type": "code",
   "execution_count": 15,
   "metadata": {},
   "outputs": [
    {
     "name": "stderr",
     "output_type": "stream",
     "text": [
      "/Users/ryadav704/Projects/rag_chatbot/.venv/lib/python3.9/site-packages/sentence_transformers/cross_encoder/CrossEncoder.py:11: TqdmWarning: IProgress not found. Please update jupyter and ipywidgets. See https://ipywidgets.readthedocs.io/en/stable/user_install.html\n",
      "  from tqdm.autonotebook import tqdm, trange\n",
      "/Users/ryadav704/Projects/rag_chatbot/.venv/lib/python3.9/site-packages/huggingface_hub/file_download.py:1132: FutureWarning: `resume_download` is deprecated and will be removed in version 1.0.0. Downloads always resume when possible. If you want to force a new download, use `force_download=True`.\n",
      "  warnings.warn(\n"
     ]
    }
   ],
   "source": [
    "from langchain_huggingface import HuggingFaceEmbeddings\n",
    "embeddings = HuggingFaceEmbeddings(model_name=\"all-MiniLM-L6-v2\")\n",
    "# Equivalent to SentenceTransformerEmbeddings(model_name=\"all-MiniLM-L6-v2\")"
   ]
  },
  {
   "cell_type": "code",
   "execution_count": 23,
   "metadata": {},
   "outputs": [],
   "source": [
    "# This text splitter is used to create the child documents\n",
    "child_splitter = RecursiveCharacterTextSplitter(chunk_size=400)\n",
    "# The vectorstore to use to index the child chunks\n",
    "vectorstore = Chroma(\n",
    "    collection_name=\"full_documents\", embedding_function=embeddings\n",
    ")\n",
    "# The storage layer for the parent documents\n",
    "store = InMemoryStore()\n",
    "retriever = ParentDocumentRetriever(\n",
    "    vectorstore=vectorstore,\n",
    "    docstore=store,\n",
    "    child_splitter=child_splitter,\n",
    ")"
   ]
  },
  {
   "cell_type": "code",
   "execution_count": 24,
   "metadata": {},
   "outputs": [],
   "source": [
    "retriever.add_documents(filtered_pages, ids=None)"
   ]
  },
  {
   "cell_type": "code",
   "execution_count": 25,
   "metadata": {},
   "outputs": [
    {
     "data": {
      "text/plain": [
       "['2b10942b-f777-4057-8797-994525156fa8',\n",
       " 'a756fc02-754b-4f0b-8cef-679c30ca3b9b',\n",
       " '9adaf858-003a-4b29-aaf5-123f2cf81fb9',\n",
       " '711da3dd-78d7-496c-8431-edf7241f0806',\n",
       " 'dd747fab-4e0a-41c3-9f72-59966f23307d',\n",
       " 'cc86c50b-2464-4e17-b33b-7ff362804e6c',\n",
       " '94310c19-64e0-4ea3-89f6-9a4eee9e59ee',\n",
       " 'a86c60f8-5046-4df1-bc83-5d9689834152',\n",
       " '8e24d2a0-4b2b-4277-81c2-38005f9c8645',\n",
       " '5e5d6318-95e1-4d14-8a14-b0119012dda2',\n",
       " 'c072a59c-1b65-470c-8cca-e15eb0e6a46b',\n",
       " 'f62879f9-cfe8-4677-b5d5-0ebf7da62746',\n",
       " '4ae78e66-9dbd-4435-a85c-dae45dde3364',\n",
       " '48025de7-d5da-4df8-bc9c-0d18044cabaf',\n",
       " '0001a9f0-e197-4c5c-83b9-8a75087a8bb3',\n",
       " '61717e40-c303-428c-989d-cc3f4454453d',\n",
       " '4e959150-b8e0-40e5-a526-35cd42691e1d',\n",
       " 'f35fa2c3-adbb-42df-8a5b-922d118f9513',\n",
       " 'bc9d87f3-63a6-4aba-9ed5-0c2be963fd00',\n",
       " 'bcd1b808-d8a4-4cc1-b9b0-ab172eba9bf4',\n",
       " '0a890d16-9ef9-446d-84eb-f68d91b138b7',\n",
       " 'c8c7367a-3206-4772-b06c-739898f01009',\n",
       " '506f9589-1d21-4fca-a403-79581a3cb18c',\n",
       " '6167020e-0870-44e2-b96e-0d6d88d03595',\n",
       " '9ef6ead4-5dd9-43f7-accc-2b35aa8c1d2a',\n",
       " '3b400336-adf1-442d-ad98-191fdbdb357b',\n",
       " 'b1aa28aa-f87c-4ea3-a377-287339282c57',\n",
       " '74b0d1a4-b1c0-4e85-b837-34d0582b0007',\n",
       " 'c8dac104-7615-4052-92c5-1a6b1bcfb5d1',\n",
       " '5ef54c35-c6f9-4a70-9737-674fb7bb8dec',\n",
       " '277194ba-3387-4371-90c1-15997e1a2f6c',\n",
       " '6f258a0a-7c49-4009-8e71-c63fbd624287',\n",
       " '278a0041-0a38-4726-8843-38df83a6d04a',\n",
       " 'c42d0b22-ad4e-48eb-aca8-1d43b91ae62c',\n",
       " '211d9f9b-13b7-42a9-bb94-49190df076d0',\n",
       " '1594a29f-2326-4d81-936e-edd73cbf0dba',\n",
       " '0605bb2f-82f6-4e9a-a78e-302d10bbe8aa',\n",
       " '2902b574-445b-452a-b46f-6b595c55e97e',\n",
       " '9f226a5e-2623-4ac0-8666-864d06c13345',\n",
       " '2baeb3f9-0c12-409c-a93d-77bac4bff3ca',\n",
       " '83d3b953-ee14-4c22-98b1-e49321ba748c',\n",
       " '71cc16ac-9538-4a81-a32b-f2dcc7bd9f9b',\n",
       " 'ed53a60f-8e08-40eb-bab9-f35dbe0022b0',\n",
       " '7bda946f-c870-467e-9ea5-9425ff1c691b',\n",
       " 'e2267891-5c24-44ed-8006-b0998cf99325',\n",
       " 'd0fa3681-16a2-4320-9528-6d6bf80d4a90',\n",
       " '9f4660e7-a203-4c80-9eca-83f7396f70f7',\n",
       " '2a468adc-6a36-4722-8c8b-4176f7d7c741',\n",
       " 'a652608a-ecc2-4cf0-b56b-095fbbeb1a7d',\n",
       " '3fbf0799-f863-4936-8ecc-a96a78081750',\n",
       " 'cd3d22c5-f224-49e0-b3c3-b9a4400b9a93',\n",
       " '323e329b-9dbf-4e2f-bb78-d9a479847229',\n",
       " '8e4fd867-c02a-4451-8aa6-792d63c855a6',\n",
       " '81221e60-1c02-4284-8b01-d380538a0393',\n",
       " '97bd29c0-d43c-42a8-a34a-ce35a3025013',\n",
       " 'c38b1562-cb3d-4eb9-b4f9-e95834d0668a',\n",
       " '20e4f150-1d84-4d1d-9a5c-379cc862e8f9',\n",
       " 'eccba533-98e0-4edf-a761-a02c67b61b4b',\n",
       " '3cbaa56c-4db7-4539-93f1-a5540c47040e',\n",
       " '09051932-aa7b-43b0-a79d-2c96cea95e5d',\n",
       " 'beb0a650-b84f-47f1-a3f4-6862a3b81974',\n",
       " '494a912e-68b6-48fe-908e-a63579d4ecbd',\n",
       " '7690637b-c09f-45e1-aa14-b7c5cd8dee22',\n",
       " 'ba849c79-88b7-49fa-8f47-c894b440ae48',\n",
       " 'd57bd700-3728-4c46-8c8a-1ac031399c8d',\n",
       " '62ed72d0-e07f-4147-8e29-923e4e4a6e33',\n",
       " 'c6bf672d-8b0d-41dd-afc3-4575e49923de',\n",
       " '388f37c2-bf69-4a32-a009-7745d61ba942',\n",
       " '3b0df59f-d02e-41f2-aeff-3ae6b5f3440f',\n",
       " 'a1a8f761-d83b-4049-b3d7-20a6b46ce352',\n",
       " 'afc7d647-ebd4-4c9c-a183-9125a8eb52c3',\n",
       " '8b66874f-ef34-4d38-82d9-44f735e3a50f',\n",
       " 'cff7435c-ec2d-42cb-a8b4-f9741dbecd86',\n",
       " 'b2066dc1-e37d-4913-994c-d3fb710c9f03',\n",
       " '54c23262-1907-4543-b2be-2f6ee42ac437',\n",
       " 'fce3dec6-d45e-456e-9887-b512fcd5d969',\n",
       " '7720d77d-40dd-455e-827d-9671e4d82ba6',\n",
       " 'e6b2e1cb-6341-45ab-a3d4-684c05e72843',\n",
       " '5faf93d7-5130-4d81-ae3e-75791ad97d4f',\n",
       " '555b6c14-840b-4b8e-ba05-38cbcc160581',\n",
       " 'd6b916a8-b936-4ae9-b3b5-98e22273971c',\n",
       " '1ebc1031-41cb-44be-8192-2b432a87e21d',\n",
       " '6f9b6daf-cc4c-43d2-8c0f-54f863506a05',\n",
       " '8fa81665-0d87-41c4-9df2-cc739a76d88a',\n",
       " '56307e5a-08a8-4719-8536-e2f719e67a7a',\n",
       " 'f8a4a24d-e465-4cfd-9e7b-47f91ec836be',\n",
       " 'a7bbd53c-3bc0-49ad-a144-3b815abe62b7',\n",
       " '75551783-b652-4917-928c-1e3c01bc9fb3',\n",
       " '64318fc3-d596-42e3-a8e5-e6e60d7b7c0a',\n",
       " '1dbfca11-f2b1-4cb0-bcdf-373ca5841e38',\n",
       " 'd01c60b1-07d5-42e1-b513-dc39cbb257b9',\n",
       " '049da4a0-8894-4afa-89e2-b85f84d1ba86',\n",
       " 'e45f05a9-4c22-41c7-b66e-fc702c986555',\n",
       " 'd0066ea4-8167-454a-8fe4-0aa8e8040428',\n",
       " '63420654-dce5-42cb-9744-3dec76227498',\n",
       " '3c981e08-2661-42d2-8b78-01c62f0719d7',\n",
       " '70bedce8-9362-4cea-9675-e007b51386d7',\n",
       " 'a42c8034-02d2-403e-9b57-c7a6aeacafdd',\n",
       " '2a34ee6f-26e0-4dfd-af85-cb5f6049888d',\n",
       " '7afddf54-05b2-4d95-987b-086e0241dc50',\n",
       " 'b879f3ab-89de-43ab-ad17-4d3d96c7ac64',\n",
       " '4e3136cc-84fc-498b-b4c7-7785da6ef598',\n",
       " '01a0d0c7-56b2-46b8-82da-51922056b191',\n",
       " '83dfd7ed-8679-4cf1-94ee-ab0863760c8a',\n",
       " 'a4f86683-e349-4026-9894-6ef3816f549e',\n",
       " '4579be58-ac4c-47e1-81b8-d6cbfb5075a4',\n",
       " 'c4b6415c-8c8e-4af8-b9ed-0f62caa723ba',\n",
       " '05306eb8-64a9-44f1-8196-7e470a983fd5',\n",
       " 'd916878c-085e-41bb-bc63-87dfc8bba2b5',\n",
       " 'e09cfd50-2f67-45a1-befd-03559abc213b',\n",
       " '083af759-08f6-4082-90b2-6735fd98e5ad',\n",
       " '40d47cc4-a9fd-4be7-99b2-7c9d5076900e',\n",
       " '5ed2e699-a04f-424a-b945-5c2343ca08bf',\n",
       " '95f0f8e1-68eb-492c-9b1f-5361d7ff470a',\n",
       " '3c79694e-c87e-43d6-a570-cfa63e0bf4ee',\n",
       " '186e2bb8-c84a-4ded-a749-ca405ccc6c4d',\n",
       " 'b84d9233-67f4-4c2e-871e-294b128c7883',\n",
       " 'da80e9d8-b283-494c-a2e4-a12fb9d08e6d',\n",
       " '029c96e5-8d4a-4f39-8a8c-3a3a84b5f6f1',\n",
       " '10f4a81e-a54a-419c-9a0f-c4e3690f54c1',\n",
       " 'ebba220e-73cc-465d-96b2-f40f0005f1c2',\n",
       " '75bac841-2620-4afa-adae-eece32a6c352',\n",
       " '0bed7b82-9dd0-4df7-b639-a91c8dd3bc99',\n",
       " '43242eb6-9183-477c-987d-73b2babdef2a',\n",
       " '732ce22d-a9b7-4bf7-a1e1-0c9bc111a6b0',\n",
       " '0e9dc470-5dc0-49a1-845a-d8fadfa55ffd',\n",
       " '46f2847d-365b-4364-b941-44f7c2898b80',\n",
       " 'a644b0ee-ae0a-4c47-8e25-a33ece24d140',\n",
       " '9c0aa2e9-2764-4c8b-bac8-9c1c9de6b770',\n",
       " '51af1875-d806-4576-a672-531e6c2aabd6',\n",
       " '429865e4-aa44-46da-b1d6-bcd760b0f940',\n",
       " 'ef475fa9-d234-4c88-a43e-c564c531a291',\n",
       " '9ea82914-b344-47b0-a840-82f196a87cff',\n",
       " '8809e128-6f0b-4211-a6a2-40ec86d042b8',\n",
       " '185686dd-333f-47a4-88de-920769efbe88',\n",
       " 'd732cd57-44aa-4f73-8445-61cfcbe804ac',\n",
       " '06ca257a-0ea6-42c7-9121-6bcc527b6d70',\n",
       " 'e2ccd6fd-19aa-44c1-998d-31b1b3c28995',\n",
       " 'a43471aa-e4d1-4423-baed-d7c485fd91f0',\n",
       " 'de80a51b-d37c-4096-9b9a-7059a7b21e97',\n",
       " 'f8f3c71b-f649-42c2-b454-82928d9a469f',\n",
       " '3fc6cabc-901d-4744-baed-91948706e1e4',\n",
       " '8c28ae2b-5d5c-4652-af53-2295578daf3a',\n",
       " '7630eecd-3241-4e7a-8c5c-243a0bede8a6',\n",
       " '8377f1ca-5e35-4719-ba17-7c9ceaf53e37',\n",
       " 'e1efad44-60d5-4d97-bae5-f7373e34bc42',\n",
       " '8495f8bf-5779-49f8-9559-f4fa8ce9ad38',\n",
       " 'f6643408-c575-46e4-8234-c2e61c7d1252',\n",
       " '27f58b05-8eb1-4ea1-844b-84d02cc623de',\n",
       " 'c1a4aefc-3dbe-42e5-b7eb-7b9742401fcf',\n",
       " 'c0a5ac39-19b4-4a3c-a1e2-369f91736c03',\n",
       " '19e0d704-e347-46ee-84fa-b1ee5a3a3353',\n",
       " '7867be4c-5138-4d7a-afce-f5d4134647d8',\n",
       " '79aea914-ce55-4553-abc9-59f6fbdb9392',\n",
       " '2417c39e-b1cd-4759-b7a1-4266df1739ff',\n",
       " 'a1990ef4-8c3a-481d-a539-41f81356054f',\n",
       " '48225fd6-6592-4976-8548-93b80493616a',\n",
       " '60363f8c-13a6-4c41-8842-f02906ce9031',\n",
       " '7f6d6cfc-5320-4dd1-9291-83bfff9106de',\n",
       " '0a6182b0-c034-45cf-9d59-b77719fdf53a',\n",
       " '603688cc-1994-467e-a1b4-98fe2785b0e9',\n",
       " 'db7e4a2d-b2b0-4f91-8c67-f1ba0eaa5d56',\n",
       " 'ea2c0c65-bfd9-4090-b5f8-6b6aee593acf',\n",
       " '9cd17308-fe5f-4849-972c-dc75b1b7a869',\n",
       " 'f02ed375-bc5f-4fe2-98da-b80c914ae4ba',\n",
       " '1aebf317-cba6-46c6-80c1-8951e59f8f09',\n",
       " 'd4dbcde6-2315-4783-a85b-c93615628a27',\n",
       " '1b7ae402-dd0f-47ad-b943-e8fc7cfc956f',\n",
       " '1702ff24-2785-4e52-aa9d-992a0cea5d85',\n",
       " '6b4db7b9-e935-4333-8f3e-04efa7dee040',\n",
       " '328d8e03-1899-4fbc-819d-386809d703a5',\n",
       " '99a419f9-55d6-48ec-aa73-f3276e70875c',\n",
       " '44cef7f6-9d87-46f6-8c65-2cce2ed3b0a7',\n",
       " 'b19ed721-ad44-4c5d-86b8-5353e90bbf2e',\n",
       " '007a0fb1-207d-4158-96d4-d1128624d645',\n",
       " '7857dda0-2073-463a-9e91-ce300ed5a0b9',\n",
       " '451899f3-4506-4bdb-b635-568b63671cc4',\n",
       " '83334b0c-5ad2-41ee-ba74-577b640fd124',\n",
       " '0dbce706-2441-4c18-b45f-11f5fbe6877d',\n",
       " '854293e2-04fa-46be-bb8f-f554dba76300',\n",
       " '346633e0-b099-4aa6-9766-05d70755707c',\n",
       " 'd761f48e-1abb-441f-9615-77a8511c2bf8',\n",
       " '737e8635-802a-413f-98de-63fc559ef0a4',\n",
       " 'f6d0821d-bc02-4daf-b424-06810d1814fb',\n",
       " '730245d8-7dae-4a36-b502-ea1facb7ff34',\n",
       " '588428f9-f12b-47bb-bbc9-67b190f44ae0',\n",
       " '2d5af636-36af-437d-b5f0-e6b93a26d7b7',\n",
       " '75481acb-927d-4acb-ba1b-5a5d6a37beee',\n",
       " '4ffb9ac3-bf32-4043-8a81-419a2c893904',\n",
       " '1481418c-093a-4ab8-8cdb-7b3dba9dfad2',\n",
       " '30f3a06e-60b5-4974-8bae-5830729bc3ed',\n",
       " '3b401c36-d030-46e9-8649-ba93cd051efe',\n",
       " 'bb4a58b8-045b-4c9b-a24f-bd3f70fc0523',\n",
       " '931519dc-4e2d-4d55-969d-3f9472612969',\n",
       " '5a70b09d-d70b-4719-a91b-dedd7777d0f6',\n",
       " '67715e12-b853-4921-acc6-b6573c62ccfe',\n",
       " '508e8a57-94bf-4be7-97c1-e27fd6287b79',\n",
       " 'ca325001-430d-4d25-8a84-4d2ea7535415',\n",
       " '263bae87-071d-4134-a3a2-3fb40f016a1e',\n",
       " '7cc3b465-705e-47a7-9608-a56f91174d2f',\n",
       " '13cf9dac-acc7-404d-b84a-edbab5121c2d',\n",
       " '1b770b73-1887-429c-8f8d-6521ce1f478e',\n",
       " 'a05b2854-8494-4df7-abf5-264fbb1713fa',\n",
       " 'cbdbffa9-dcc8-4d59-ada2-341741bf6143',\n",
       " 'de55b2aa-7ee1-47b1-8932-f929b4e095f2',\n",
       " 'b893d167-67e5-410f-b159-5b164fbc7b00',\n",
       " 'e57fa75d-d718-425e-93bd-2240ac23957e',\n",
       " '91c89726-ef73-46f6-ab2d-1e0a36e88e73',\n",
       " 'a916a764-50f9-4564-ac63-42374ed47ba8',\n",
       " 'e8491d4a-9b7c-488f-a0d2-98a52aabf0df',\n",
       " '96e34e34-9dfa-4f7a-9c4e-b89b20f7f49a',\n",
       " 'f0f6ba75-952b-44da-af1d-97dad32e27f7',\n",
       " '62254ec6-5646-4ef2-bdb7-08861b7e3833',\n",
       " 'f45ceda0-698f-4892-ba9c-a21966c13303',\n",
       " 'b96eea09-8458-4cb3-aa2a-930563e4cd3f',\n",
       " 'a9a3f3c4-8092-4f63-99b2-76314e2f1b35',\n",
       " '082c113b-7786-4adc-a009-91fee0f524ca',\n",
       " 'cd9598b4-fe29-4b09-95f4-06a2a4570be4',\n",
       " 'd59ff959-3aab-40dc-a1a0-ed8c379f47ab',\n",
       " 'c9bab036-23e5-4d61-ac4f-d26fddaee5a9',\n",
       " '398eefcc-277a-49fa-ae95-2d282eed7a9a',\n",
       " 'ba636a5a-47ab-42ee-b9bd-9ee8c45bb3c2',\n",
       " 'c73d6bf7-987b-4d6f-b21e-aec1a870127b',\n",
       " '0bcaa8e0-81ef-4bae-b674-6f726ef0418e',\n",
       " '8889f6af-403c-437f-b3ad-f405ea4d2b63',\n",
       " '67d4a873-b8e9-4229-96e7-bb9307e91e91',\n",
       " '9865a594-8512-4a6a-bc5b-6acc174bfcae',\n",
       " '1b1f5c74-da5c-4f7f-821a-3da0eff3ee9c',\n",
       " 'adb9b28d-0a3d-43cf-9746-747064e348b9',\n",
       " '04127bad-1671-459e-bcbf-fb0913a958a9',\n",
       " '59a65ff2-c00b-40e3-b5aa-34ad1c306928',\n",
       " '0137cc56-ef1b-4fd8-9226-770992b25c26',\n",
       " 'fae756fe-97e7-4ad8-98c4-31a58f5ba474',\n",
       " '49bd78a4-a119-455d-9392-2247a17bcf1f',\n",
       " '76ed6bc9-9f08-48ce-9034-e97b897441ea',\n",
       " '975e9c2e-42c0-4516-9ab1-4294a88b7f14',\n",
       " 'c4f4d375-5771-4589-a0a6-ad7db3607b0d',\n",
       " 'e6aeb88d-340e-40dd-875d-006c14fe7d60',\n",
       " '259460c0-ae15-4ef9-9367-6f8e0193dc4b',\n",
       " 'f6d53d36-0bca-4c2e-b865-8907f2c8509d',\n",
       " '17f65dc0-4e80-42e7-b548-8d106aef3464',\n",
       " '73702d02-4e72-4168-a087-017096dda454',\n",
       " '043d343a-9543-4d66-9041-0a528495e8be',\n",
       " '64763474-0971-4d76-b7fe-c793a14f4b13',\n",
       " '1392d912-d00a-4519-b367-f05c1e902c5f',\n",
       " '2c60c126-e646-4705-a6ed-e3d616d32f91',\n",
       " '9c6e7616-a4fd-450d-bc63-5c492d880f03',\n",
       " '0ab30cdd-cf54-4579-9d51-62a06b519c3d',\n",
       " 'e2c91518-0935-4940-aaf2-9f4dbb6b454f',\n",
       " 'e0f4678f-6900-4635-9374-52719ba67c1a',\n",
       " 'f712fc84-e65c-4b77-a7ec-00a404d9902a',\n",
       " 'e07af252-99c4-42eb-b496-8b040aeb9d79',\n",
       " '124adf4b-3eae-497b-a5dd-81d53ededb8c',\n",
       " '308deec7-b133-47ef-9bb1-bdbfcf474b79',\n",
       " '535d69e2-dca0-4fde-929e-c3dc69041f26',\n",
       " 'b895772e-3cef-4887-be6e-12e4fb5a8f8f',\n",
       " 'c5836eb8-d504-48fb-96be-cfb0cba09ec5',\n",
       " 'efa8bcf8-c652-46d8-8610-c67da98dc365',\n",
       " 'ef0d18e6-5db7-426a-baf2-7399e232f505',\n",
       " '66f29622-2b01-42b0-b976-6f8d470a72eb',\n",
       " 'bba5e211-8683-4ffa-aaac-87af69b7647b',\n",
       " 'bf9bfbfe-69c6-4b7f-96fe-c2e9379ee061',\n",
       " 'fb646997-cbfe-40c1-972d-e87a6ecb425e',\n",
       " 'ed6ea85f-8bcc-4a6c-9dc5-5a6e9542f442',\n",
       " 'd4d1f76b-afab-4777-a898-89aad7f55797',\n",
       " '8bad1575-50dc-48cf-bb73-044b50a787ab',\n",
       " '85afb36a-3fdd-40a1-9b05-0f42afb74d8d',\n",
       " '5d4444ff-8b5b-4fb4-88b0-d372f0f396c3',\n",
       " '103b8133-bda1-495b-9673-099bfd20bd40',\n",
       " '59b7cd4d-2621-46ed-8a14-691feae80efb',\n",
       " '1ca959e0-0b9c-4f64-b124-a4df8331a7fc',\n",
       " 'e596d2b5-0592-4bc5-8fbc-b969f63602f7',\n",
       " '27bc3eee-2ada-4627-964e-3fbf3113e619',\n",
       " 'c3495f13-22b1-44d8-bbc0-e74aece5abea',\n",
       " '0f8bb684-9475-440a-9b2b-16a7ef30587d',\n",
       " 'b8e1fbcd-1610-4afe-8f2e-5cae9bedb97f',\n",
       " 'cffe68ae-cd6e-4e48-9f0c-a1d01b28a3ae',\n",
       " 'f4c15430-8795-4863-a2d3-0338daf4fe53',\n",
       " '825e3824-d575-4b68-bb0e-e42e6853a5f7',\n",
       " '788c5753-fb90-434e-848c-f2cbaed855bb',\n",
       " '70b7310b-439a-45ba-8027-2929b003d81a',\n",
       " '2e458418-e0ab-4997-bd2b-ae62f5d58c3d',\n",
       " '8b08cf4c-4a20-4bd6-a0ec-7bf8f7eb165b',\n",
       " '4609efe9-cd33-4075-b782-18d130272a45',\n",
       " '9de73931-27a6-4cdc-8d4a-de72772d52bb',\n",
       " '4f92de18-a914-4af7-907b-366bb8082806',\n",
       " 'bc3a3046-59c3-4fd4-9b60-c2af4a89f5ca',\n",
       " 'da00efd4-3c4a-4e2b-9c5f-0fdcf86939f0',\n",
       " 'e31644be-5667-4fe2-bd8c-257bdccbcadf',\n",
       " 'f00c9bc6-cd0f-4b54-8d75-61aaed42510a',\n",
       " '31633c2a-04d2-4fb6-b5a6-40f2561ec8ad',\n",
       " 'bec7f0b4-3ba1-4157-9585-762d51a9ff04',\n",
       " '6f8c78fd-549b-4cee-9556-8b49a9909b47',\n",
       " 'e9a35891-a91a-48df-aa19-fc6ad59d6c78',\n",
       " 'e7e9765a-72d2-4786-a8ec-4e4cde37e8aa',\n",
       " '87ca372f-c41f-421a-ab20-0659752539ab',\n",
       " '6286a3d6-a0a1-436e-8033-bd9903d8c147',\n",
       " '7ce5dd77-220c-4265-b846-18e58cbc6941',\n",
       " '86699b52-6d5c-4611-b56c-7e8c6aecc87a',\n",
       " '950c713b-83f6-493c-8196-b74c81942047',\n",
       " '821a47fb-b26b-4e20-aaca-4f0fcf962f6c',\n",
       " '6f36f49e-0f70-42bd-8711-16eddda1a596',\n",
       " 'f73b4e04-b492-47ef-b7a4-d4dda27a1bb0',\n",
       " '44a83f35-65a6-488c-b6c9-ed4f5c2b3488',\n",
       " '1c693e89-3bdf-40d0-98ce-12eff0751058',\n",
       " '0065c233-22d4-454d-9b9b-df66e516ece2',\n",
       " 'b2b4d3bd-cc31-489c-8779-8dd6b95a08f8',\n",
       " '7e6bbab0-9357-46ed-99bc-7a3961eb95ea',\n",
       " '0d4c38ed-2b9c-492a-bd5c-66be9393f4b9',\n",
       " '06a9f6a5-ee73-40bb-b80b-7b77c7c0e48a',\n",
       " '32ea9106-9f9e-4569-8062-37e67669a444',\n",
       " 'bd82c870-7e8f-4885-bbb2-40b0ed291ef2',\n",
       " 'b9e04996-25e1-4b66-9568-2d55f9471c35',\n",
       " '9e22770a-0496-40d8-a2b3-28ecd8ff3731',\n",
       " '4bb35eb7-89cf-4093-ac78-6970b1f6e71c',\n",
       " '50f36854-ec45-4b86-be5b-cfa5d9fe78a4',\n",
       " '34d3ddda-8346-411b-a003-f900a4129bc1',\n",
       " '3a759263-9e43-4dc8-8232-c34eb3ec6510',\n",
       " '28eee8ff-81e8-4206-8dca-5b51b48dc356',\n",
       " 'd16cb99a-6843-45f1-a3d0-9fa972545d39',\n",
       " 'ada33baf-4420-48e6-983b-0c68584cd891',\n",
       " '5d40ae96-28d5-4e3f-9963-9ab3b8fa362e',\n",
       " 'b4f7dd3f-d2ce-4ce9-abc0-14364ae8401a',\n",
       " 'a48233f0-626a-4a86-8426-1cbc7bfacad2',\n",
       " 'f7a18f25-d1fe-4cea-af0f-3ad4d8f1b586',\n",
       " 'b6873860-4ca0-4b97-9dbc-0703520f044c',\n",
       " 'ea85c03c-defa-4177-86fd-deb3c1ad2c42',\n",
       " 'e133034e-ac25-4fad-9bd7-cf6d82d945f0',\n",
       " '8ea3df01-e2c2-4a06-ad49-1e6b91aa4644',\n",
       " '996be642-9451-4ade-bfd5-b9ca89fe04f1',\n",
       " '537d482a-ee77-4b7d-bfb9-c0057c4ec5d5',\n",
       " '78486f85-3afb-45ce-a6f8-86415af33f6f',\n",
       " '8ba8a9da-b459-4122-9bbb-7734c13806f6',\n",
       " 'bf59bbfa-4544-49e3-b6e7-abec329156d3',\n",
       " '1e362d90-3653-453f-afe9-f9a0eb47b7cd',\n",
       " 'cbe52d8e-8ba3-4356-a039-bcda7dbbc6a1',\n",
       " '0238eba2-aebe-4e96-b5ef-0f9334e1f712',\n",
       " '50cd1dcd-ff9a-49c0-babf-ebd3e8e0e354',\n",
       " '8912de2a-1f8e-49de-a270-bf60f3755662',\n",
       " 'f878f1ba-5d10-47e2-b350-9d15bb338061',\n",
       " '9176eae5-694d-4c7f-b498-803e6a5c1f53',\n",
       " 'c91e849b-21cf-4bb5-9e74-eb78948f450d',\n",
       " '58a98e01-3e16-408b-8450-92dc9b02bc60',\n",
       " '0a0b8355-b389-4527-a8d6-42d2656518fd',\n",
       " '37d2fbf6-5dec-426d-81cc-828843019508',\n",
       " '7a920675-37ab-4eb9-9ebf-9f407f3bd838',\n",
       " 'b39825b0-c1b3-4b79-b601-6d12615b8788',\n",
       " '399fcb17-accd-48b6-bb5d-5aeea79d5f9f',\n",
       " '025d863b-6841-4b1d-950b-877ef6a4bf42',\n",
       " '04e470ce-a569-402b-8b4f-b4dddbb77e9a',\n",
       " 'f0af1133-3791-4814-ab44-cdf82210ce12',\n",
       " '48fb5ee0-9e82-4291-adc1-e67472c42a4a',\n",
       " 'ac4ffedf-333d-4f32-945b-2e76c83aa8a4',\n",
       " '1ce33ba3-7232-44f0-a30e-80a8850697c0',\n",
       " 'ef16b398-ea99-4b33-803a-d80294b832e8',\n",
       " 'df2793ce-371d-4c90-86bf-30ec5bf211f8',\n",
       " '018911ec-66b5-4ed7-ba24-6cc5b1fed21e',\n",
       " '9141e20b-33d3-4357-9559-65ba24c026b3',\n",
       " '4f116aa5-afd6-442f-bf6d-e2a818b741ad',\n",
       " 'b94de78c-f283-4ff0-9aa2-2489bfc8da9f',\n",
       " '51838850-6f5b-4291-96ab-b10755750591',\n",
       " 'eed1f810-3141-4c1d-bbc8-b32b8109f7df',\n",
       " 'f481c21e-3d34-46c4-9f15-4c470175a4c6',\n",
       " 'e72c1686-8149-4af2-a88e-df7d434a9433',\n",
       " '6fb9f3da-999b-4300-9d38-aa77aa1031d0',\n",
       " '976783cd-2074-485b-ae01-d91a0f82a6ab',\n",
       " 'e9dad0d9-2c9d-420a-a919-b16bb4695ce1',\n",
       " 'ee3903f4-e727-4d33-8f70-fbf2d7ec7f95',\n",
       " 'c1689df2-5877-4dad-a89a-5af2e76f8072',\n",
       " '8727b953-d495-4491-bc39-79a1fa6d0fd1',\n",
       " 'e6cc35c5-2bc7-4525-8514-dac7dace8155',\n",
       " 'e9ecadd3-0e17-4a44-8f9f-6ddc393a3336',\n",
       " '67ab0ea9-a131-49f0-839b-277907d6eb4d',\n",
       " 'e56dd4d7-51e2-4667-9232-5eb7bf36b294',\n",
       " '56b97a2f-9212-4163-9519-2b1f2e0a68b8',\n",
       " 'ecaa76ff-1a6b-4b27-9cf7-9622818c1cae',\n",
       " 'cec41c5e-b914-4d84-acf6-b492adc2aa30',\n",
       " '8809db3a-259f-46cc-afa7-543234ba00d9',\n",
       " '2d77957a-00cb-430e-a442-23d530ba4fd7',\n",
       " '02d058d6-8287-4e9f-9ee3-2aae3e426c96',\n",
       " 'f0e782af-4faf-4241-9ad1-f68ed20ab613',\n",
       " 'd8d6c76e-771f-4c65-b429-1250860108d2',\n",
       " 'a5d295ac-fb93-4817-8f7c-d4776559cadd',\n",
       " 'a7a8399c-d954-44ca-ac5a-2a8cc27f41ce',\n",
       " '1dc38bc6-1edd-4aa3-84da-744a65b10b05',\n",
       " '12822ba9-4081-4e8a-ba07-53276df85eff',\n",
       " '8b328d60-a0de-4eb3-a9ee-43312c288c0f',\n",
       " '929b2e83-8891-48b8-96b7-2f3d92d02d3c',\n",
       " 'f5093188-72f6-4cbf-9523-6d1024179195',\n",
       " '3a22f251-1c8a-47e1-916d-5f6b23d9118e',\n",
       " 'e3d3095d-5702-4d5c-aa51-5b3dd415b9ab',\n",
       " '3ad703f9-19f3-4451-9961-941ab7f9f07b',\n",
       " 'd5b07e9d-d9a2-44ba-92fa-f24b99590986',\n",
       " 'd1d8ad5b-527e-4064-bd54-c52d180e63c7',\n",
       " '8f970a6f-bbc1-4da1-a1d7-fa4ebb7b6717',\n",
       " '3d1fa8e8-9c06-405e-a494-836a3dd47959',\n",
       " 'ffcf8131-bbaf-4a2a-9dff-ceb55862605a',\n",
       " '013e89a4-9c65-4885-ba78-ba5cc770e9e8',\n",
       " 'fe856c37-b6ab-40ad-bdbe-3702a1bb60c4',\n",
       " '12e8185c-b413-477e-a0f4-5c4dec3a920c',\n",
       " '6172ff08-a663-4202-81d9-b89949b6ed3d',\n",
       " 'e69db6ce-bf89-427c-ad8c-b401fca533ad',\n",
       " 'df7bfb1e-0460-41bb-b9bf-a045a3b52191',\n",
       " '0d50d446-554e-4b78-9479-25566651fca5',\n",
       " 'f1a5a60c-230d-4267-b88f-fb1cc2fb3fb8',\n",
       " 'fafba443-0c63-435b-af7b-fd31317b0075',\n",
       " '73f057fb-3244-47f1-b8a2-4f194ecdbb71',\n",
       " '3038b18c-836f-4175-8c01-fea28acdffc2',\n",
       " '04b06458-af9e-413e-89fe-673024d10257',\n",
       " '80e87d93-4ea9-4917-89dd-a4093bfb0cea',\n",
       " 'c155034b-cb42-4337-9043-829db227cbf3',\n",
       " '5ffcfcad-e7af-433f-b55a-cef97380d208',\n",
       " 'c50ef27c-0359-4bab-8a5a-442d30b9f169',\n",
       " '894f3e7a-ede4-4c39-abbd-58b3f222fe54',\n",
       " 'b0dee4b9-8a73-4fc1-9b9c-2add829294b5',\n",
       " '70a0fcf2-eb36-428a-bfb1-b4711ac75cb7',\n",
       " '5b9c4964-8477-4b81-bd11-8d744ce609bf',\n",
       " 'da12cd5a-0763-4958-8b84-674a2dd0b000',\n",
       " 'f0dd362a-d70f-4990-97d7-8c435c8d4f9f',\n",
       " '7687c290-0582-4f9f-9e5f-5c5d218e7964',\n",
       " '32e408a7-0004-4fff-bf53-d0d707d830d5',\n",
       " '0b706b83-2241-4940-8586-b1892ac46ecc',\n",
       " 'ba34938c-c2b0-415a-a3c4-e7b312f33694',\n",
       " 'cf3727be-8294-4cb4-baf5-fb78d2e3ccb8',\n",
       " '8fc561eb-595b-414a-9cd3-4b57053c1433',\n",
       " '5a8e777c-8784-4162-a5e9-cd2376ec0387',\n",
       " 'd2011577-b398-4ad5-b5d2-3cf6157dd486',\n",
       " '81d9f255-61b5-4b27-911e-eaf935588f33',\n",
       " '8c19b715-68fa-4d6b-b455-9a580a5528c2',\n",
       " '5e20e321-f734-4bef-a459-dcd982dd7020',\n",
       " '2c817f24-02dd-4098-87b2-e47ad3858a8f',\n",
       " '8953768c-7ae8-4bb5-ab0b-a4ed790c5666',\n",
       " 'b5e9ada1-a711-4cd4-a454-72e0b4c2a910',\n",
       " '13367e8d-3fad-4d81-8ab1-dd181b0c46d6',\n",
       " '37a6a598-e8b0-465b-b98c-4844a1ceb319',\n",
       " '81afb778-cd04-4dcd-820a-e1d3d41cb952',\n",
       " 'c0d570c3-6241-4c1e-87aa-1291f93611a5',\n",
       " 'ec8bd4dd-e167-42ad-830a-1b30a3d8f10e',\n",
       " 'b08f5872-cee8-4301-9102-4097f05a0151',\n",
       " '51f475e7-a9e8-42ae-ac7d-875907eb9b2c',\n",
       " 'b4c41838-7667-4130-bad6-edd73743eefd']"
      ]
     },
     "execution_count": 25,
     "metadata": {},
     "output_type": "execute_result"
    }
   ],
   "source": [
    "list(store.yield_keys())"
   ]
  },
  {
   "cell_type": "code",
   "execution_count": 26,
   "metadata": {},
   "outputs": [],
   "source": [
    "sub_docs = vectorstore.similarity_search(\"rajasthan\")"
   ]
  },
  {
   "cell_type": "code",
   "execution_count": 27,
   "metadata": {},
   "outputs": [
    {
     "name": "stdout",
     "output_type": "stream",
     "text": [
      "Contemporary South Asia\n",
      "380incident involving the members of the Bishnoi sect of Rajasthan, which was\n"
     ]
    }
   ],
   "source": [
    "print(sub_docs[0].page_content)"
   ]
  },
  {
   "cell_type": "code",
   "execution_count": 28,
   "metadata": {},
   "outputs": [],
   "source": [
    "retrieved_docs = retriever.invoke(\"rajasthan\")"
   ]
  },
  {
   "cell_type": "code",
   "execution_count": 29,
   "metadata": {},
   "outputs": [
    {
     "data": {
      "text/plain": [
       "3251"
      ]
     },
     "execution_count": 29,
     "metadata": {},
     "output_type": "execute_result"
    }
   ],
   "source": [
    "len(retrieved_docs[0].page_content)"
   ]
  },
  {
   "cell_type": "code",
   "execution_count": 30,
   "metadata": {},
   "outputs": [],
   "source": [
    "# This text splitter is used to create the parent documents\n",
    "parent_splitter = RecursiveCharacterTextSplitter(chunk_size=2000)\n",
    "# This text splitter is used to create the child documents\n",
    "# It should create documents smaller than the parent\n",
    "child_splitter = RecursiveCharacterTextSplitter(chunk_size=400)\n",
    "# The vectorstore to use to index the child chunks\n",
    "vectorstore = Chroma(\n",
    "    collection_name=\"split_parents\", embedding_function=embeddings\n",
    ")\n",
    "# The storage layer for the parent documents\n",
    "store = InMemoryStore()"
   ]
  },
  {
   "cell_type": "code",
   "execution_count": 31,
   "metadata": {},
   "outputs": [],
   "source": [
    "retriever = ParentDocumentRetriever(\n",
    "    vectorstore=vectorstore,\n",
    "    docstore=store,\n",
    "    child_splitter=child_splitter,\n",
    "    parent_splitter=parent_splitter,\n",
    ")"
   ]
  },
  {
   "cell_type": "code",
   "execution_count": 32,
   "metadata": {},
   "outputs": [],
   "source": [
    "retriever.add_documents(filtered_pages)"
   ]
  },
  {
   "cell_type": "code",
   "execution_count": 33,
   "metadata": {},
   "outputs": [
    {
     "data": {
      "text/plain": [
       "834"
      ]
     },
     "execution_count": 33,
     "metadata": {},
     "output_type": "execute_result"
    }
   ],
   "source": [
    "len(list(store.yield_keys()))"
   ]
  },
  {
   "cell_type": "code",
   "execution_count": 34,
   "metadata": {},
   "outputs": [
    {
     "name": "stdout",
     "output_type": "stream",
     "text": [
      "Rajasthan in the northwest or Karnataka in the central peninsula  –  there \n",
      "appeared one sort of conﬁ  guration of community and kingdom, while in the\n"
     ]
    }
   ],
   "source": [
    "sub_docs = vectorstore.similarity_search(\"rajasthan\")\n",
    "print(sub_docs[0].page_content)"
   ]
  },
  {
   "cell_type": "code",
   "execution_count": 35,
   "metadata": {},
   "outputs": [
    {
     "data": {
      "text/plain": [
       "512"
      ]
     },
     "execution_count": 35,
     "metadata": {},
     "output_type": "execute_result"
    }
   ],
   "source": [
    "retrieved_docs = retriever.invoke(\"rajasthan\")\n",
    "len(retrieved_docs[0].page_content)"
   ]
  },
  {
   "cell_type": "code",
   "execution_count": 36,
   "metadata": {},
   "outputs": [
    {
     "name": "stdout",
     "output_type": "stream",
     "text": [
      "Rajasthan in the northwest or Karnataka in the central peninsula  –  there \n",
      "appeared one sort of conﬁ  guration of community and kingdom, while in the \n",
      "Gangetic plain and the Coromandel plain in the south there was another. In Rajasthan and Karnataka, the caste culture of the medieval age was known, but the hierarchical practices of caste relations were attenuated by the prin-ciples of clan organization of the farming communities and their artisan and priestly clients that now characterized the countryside.\n"
     ]
    }
   ],
   "source": [
    "print(retrieved_docs[0].page_content)"
   ]
  }
 ],
 "metadata": {
  "kernelspec": {
   "display_name": "Python 3.9.6 ('.venv': venv)",
   "language": "python",
   "name": "python3"
  },
  "language_info": {
   "codemirror_mode": {
    "name": "ipython",
    "version": 3
   },
   "file_extension": ".py",
   "mimetype": "text/x-python",
   "name": "python",
   "nbconvert_exporter": "python",
   "pygments_lexer": "ipython3",
   "version": "3.9.6"
  },
  "orig_nbformat": 4,
  "vscode": {
   "interpreter": {
    "hash": "750d02d7b605ea004d558872e0f74b3c6149d544357d3b3375c892eef07ad2c5"
   }
  }
 },
 "nbformat": 4,
 "nbformat_minor": 2
}
